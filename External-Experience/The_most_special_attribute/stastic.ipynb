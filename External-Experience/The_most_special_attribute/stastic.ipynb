{
 "metadata": {
  "language_info": {
   "codemirror_mode": {
    "name": "ipython",
    "version": 3
   },
   "file_extension": ".py",
   "mimetype": "text/x-python",
   "name": "python",
   "nbconvert_exporter": "python",
   "pygments_lexer": "ipython3",
   "version": "3.8.5"
  },
  "orig_nbformat": 2,
  "kernelspec": {
   "name": "python385jvsc74a57bd0a4624018cbda48e309e53c34dc04e4e00d8f72c5d32e83c000e4383ca1da59b4",
   "display_name": "Python 3.8.5 64-bit ('base': conda)"
  }
 },
 "nbformat": 4,
 "nbformat_minor": 2,
 "cells": [
  {
   "cell_type": "code",
   "execution_count": 1,
   "metadata": {},
   "outputs": [],
   "source": [
    "import json\n",
    "import matplotlib.pyplot as plt\n",
    "import numpy as np\n",
    "import os"
   ]
  },
  {
   "cell_type": "code",
   "execution_count": 2,
   "metadata": {},
   "outputs": [],
   "source": [
    "json_fold = \"./Multi-ID-topk/scores-group-Test-CosFace-r50-topk-1-erase-black/json\""
   ]
  },
  {
   "cell_type": "code",
   "execution_count": 3,
   "metadata": {},
   "outputs": [],
   "source": [
    "lists = os.listdir(json_fold)\n",
    "\n",
    "scores = np.zeros(30)\n",
    "\n",
    "for path in lists:\n",
    "    with open(os.path.join(json_fold,path),'r') as load_f:\n",
    "        load_dict = json.load(load_f)\n",
    "    attr_dict = load_dict[\"attributes-image1\"]\n",
    "    value = np.array(list(attr_dict.values()))[:,-1]\n",
    "\n",
    "    value_ = value.copy()\n",
    "    value_.sort()\n",
    "    for i in range(30):\n",
    "        idx = np.where(value==value_[i])[0][0]\n",
    "        scores[idx] += i"
   ]
  },
  {
   "cell_type": "code",
   "execution_count": 4,
   "metadata": {},
   "outputs": [
    {
     "output_type": "execute_result",
     "data": {
      "text/plain": [
       "array([146511., 129090., 130507., 126117., 126664., 114279., 122863.,\n",
       "       124996., 121784., 128091., 129661., 124909., 129000., 124978.,\n",
       "       116999., 123996., 128363., 125649., 129598., 127188., 115500.,\n",
       "       123669., 120267., 121607., 110708., 123541., 126055., 115719.,\n",
       "       124521., 128605.])"
      ]
     },
     "metadata": {},
     "execution_count": 4
    }
   ],
   "source": [
    "scores"
   ]
  },
  {
   "cell_type": "code",
   "execution_count": null,
   "metadata": {},
   "outputs": [],
   "source": []
  }
 ]
}